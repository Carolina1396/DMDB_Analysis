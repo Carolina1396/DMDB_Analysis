{
 "cells": [
  {
   "cell_type": "markdown",
   "metadata": {},
   "source": [
    "# DrugMechDB BiothingsExplorer TRAPI Analysis\n",
    "\n",
    "This will be similar to `2_dmdb_mrn_analysis` but using the results we got from BTE Explorer.\n",
    "\n",
    "This notebook is still under construction."
   ]
  },
  {
   "cell_type": "code",
   "execution_count": 1,
   "metadata": {},
   "outputs": [],
   "source": [
    "import pandas as pd\n",
    "import networkx as nx\n",
    "from pathlib import Path\n",
    "\n",
    "import requests\n",
    "from itertools import chain\n",
    "from collections import defaultdict\n",
    "\n",
    "from biothings_client import get_client"
   ]
  },
  {
   "cell_type": "code",
   "execution_count": 2,
   "metadata": {},
   "outputs": [],
   "source": [
    "this_name = '4_dmdb_bte_trapi_analysis'\n",
    "out_dir = Path('../2_pipeline').joinpath(this_name, 'out').resolve()\n",
    "out_dir.mkdir(exist_ok=True, parents=True)\n",
    "\n",
    "data_dir = Path('../0_data/external').resolve()"
   ]
  },
  {
   "cell_type": "code",
   "execution_count": 3,
   "metadata": {},
   "outputs": [],
   "source": [
    "ind = nx.read_yaml(data_dir.joinpath('indication_paths.yaml'))"
   ]
  },
  {
   "cell_type": "code",
   "execution_count": 4,
   "metadata": {},
   "outputs": [],
   "source": [
    "prev_dir = Path('../2_pipeline/3_querying_bte_trapi/out/').resolve()\n",
    "prev_result = pd.read_csv(prev_dir.joinpath('BTE_TRAPI_result.csv'))"
   ]
  },
  {
   "cell_type": "markdown",
   "metadata": {},
   "source": [
    "## Drug info"
   ]
  },
  {
   "cell_type": "code",
   "execution_count": 3,
   "metadata": {},
   "outputs": [],
   "source": [
    "dmdb_drugs = defaultdict(list)\n",
    "for p in ind:\n",
    "    for k in ['drug_mesh', 'drugbank', 'drug']:\n",
    "        dmdb_drugs[k].append(p['graph'][k])\n",
    "dmdb_drugs = pd.DataFrame(dmdb_drugs)"
   ]
  },
  {
   "cell_type": "code",
   "execution_count": 4,
   "metadata": {},
   "outputs": [
    {
     "data": {
      "text/html": [
       "<div>\n",
       "<style scoped>\n",
       "    .dataframe tbody tr th:only-of-type {\n",
       "        vertical-align: middle;\n",
       "    }\n",
       "\n",
       "    .dataframe tbody tr th {\n",
       "        vertical-align: top;\n",
       "    }\n",
       "\n",
       "    .dataframe thead th {\n",
       "        text-align: right;\n",
       "    }\n",
       "</style>\n",
       "<table border=\"1\" class=\"dataframe\">\n",
       "  <thead>\n",
       "    <tr style=\"text-align: right;\">\n",
       "      <th></th>\n",
       "      <th>drug_mesh</th>\n",
       "      <th>drugbank</th>\n",
       "      <th>drug</th>\n",
       "    </tr>\n",
       "  </thead>\n",
       "  <tbody>\n",
       "    <tr>\n",
       "      <th>0</th>\n",
       "      <td>MESH:D000068877</td>\n",
       "      <td>DB:DB00619</td>\n",
       "      <td>imatinib</td>\n",
       "    </tr>\n",
       "    <tr>\n",
       "      <th>1</th>\n",
       "      <td>MESH:D000082</td>\n",
       "      <td>DB:DB00316</td>\n",
       "      <td>acetaminophen</td>\n",
       "    </tr>\n",
       "    <tr>\n",
       "      <th>2</th>\n",
       "      <td>MESH:D001241</td>\n",
       "      <td>DB:DB00945</td>\n",
       "      <td>acetylsalicylic acid</td>\n",
       "    </tr>\n",
       "    <tr>\n",
       "      <th>3</th>\n",
       "      <td>MESH:D009288</td>\n",
       "      <td>DB:DB00788</td>\n",
       "      <td>naproxen</td>\n",
       "    </tr>\n",
       "    <tr>\n",
       "      <th>4</th>\n",
       "      <td>MESH:D009643</td>\n",
       "      <td>DB:DB01059</td>\n",
       "      <td>norfloxacin</td>\n",
       "    </tr>\n",
       "    <tr>\n",
       "      <th>...</th>\n",
       "      <td>...</td>\n",
       "      <td>...</td>\n",
       "      <td>...</td>\n",
       "    </tr>\n",
       "    <tr>\n",
       "      <th>799</th>\n",
       "      <td>MESH:D003091</td>\n",
       "      <td>DB:DB00803</td>\n",
       "      <td>colistin</td>\n",
       "    </tr>\n",
       "    <tr>\n",
       "      <th>800</th>\n",
       "      <td>MESH:D000198</td>\n",
       "      <td>DB:DB00919</td>\n",
       "      <td>spectinomycin</td>\n",
       "    </tr>\n",
       "    <tr>\n",
       "      <th>801</th>\n",
       "      <td>MESH:D008653,MESH:C529599</td>\n",
       "      <td>DB:DB00933</td>\n",
       "      <td>Mesoridazine</td>\n",
       "    </tr>\n",
       "    <tr>\n",
       "      <th>802</th>\n",
       "      <td>MESH:C025698</td>\n",
       "      <td>DB:DB00971</td>\n",
       "      <td>Selenium sulfide</td>\n",
       "    </tr>\n",
       "    <tr>\n",
       "      <th>803</th>\n",
       "      <td>MESH:D000068180</td>\n",
       "      <td>DB:DB01238</td>\n",
       "      <td>aripiprazole</td>\n",
       "    </tr>\n",
       "  </tbody>\n",
       "</table>\n",
       "<p>804 rows × 3 columns</p>\n",
       "</div>"
      ],
      "text/plain": [
       "                     drug_mesh    drugbank                  drug\n",
       "0              MESH:D000068877  DB:DB00619              imatinib\n",
       "1                 MESH:D000082  DB:DB00316         acetaminophen\n",
       "2                 MESH:D001241  DB:DB00945  acetylsalicylic acid\n",
       "3                 MESH:D009288  DB:DB00788              naproxen\n",
       "4                 MESH:D009643  DB:DB01059           norfloxacin\n",
       "..                         ...         ...                   ...\n",
       "799               MESH:D003091  DB:DB00803              colistin\n",
       "800               MESH:D000198  DB:DB00919         spectinomycin\n",
       "801  MESH:D008653,MESH:C529599  DB:DB00933          Mesoridazine\n",
       "802               MESH:C025698  DB:DB00971      Selenium sulfide\n",
       "803            MESH:D000068180  DB:DB01238          aripiprazole\n",
       "\n",
       "[804 rows x 3 columns]"
      ]
     },
     "execution_count": 4,
     "metadata": {},
     "output_type": "execute_result"
    }
   ],
   "source": [
    "dmdb_drugs = dmdb_drugs.drop_duplicates().reset_index(drop=True)\n",
    "dmdb_drugs"
   ]
  },
  {
   "cell_type": "markdown",
   "metadata": {},
   "source": [
    "## Nodes"
   ]
  },
  {
   "cell_type": "code",
   "execution_count": 5,
   "metadata": {},
   "outputs": [],
   "source": [
    "dmdb_nodes = defaultdict(list)\n",
    "for p in ind:\n",
    "    for n in p['nodes']:\n",
    "        for k in ['id', 'name', 'label']:\n",
    "            # some strings have a unicode Byte order mark\n",
    "            # let's just strip it for functionality\n",
    "            dmdb_nodes[k].append(n[k].replace('\\ufeff', ''))\n",
    "dmdb_nodes = pd.DataFrame(dmdb_nodes)"
   ]
  },
  {
   "cell_type": "markdown",
   "metadata": {},
   "source": [
    "## Edges"
   ]
  },
  {
   "cell_type": "code",
   "execution_count": 6,
   "metadata": {},
   "outputs": [],
   "source": [
    "dmdb_edges = defaultdict(list)\n",
    "for p in ind:\n",
    "    for i, e in enumerate(p['links']):\n",
    "        for k in ['source', 'key', 'target']:\n",
    "            # some strings have a unicode Byte order mark\n",
    "            # let's just strip it for functionality\n",
    "            dmdb_edges[k].append(e[k].replace('\\ufeff', ''))\n",
    "        dmdb_edges['edge_num'].append(i+1)\n",
    "        \n",
    "dmdb_edges = pd.DataFrame(dmdb_edges)"
   ]
  },
  {
   "cell_type": "code",
   "execution_count": 7,
   "metadata": {},
   "outputs": [
    {
     "data": {
      "text/html": [
       "<div>\n",
       "<style scoped>\n",
       "    .dataframe tbody tr th:only-of-type {\n",
       "        vertical-align: middle;\n",
       "    }\n",
       "\n",
       "    .dataframe tbody tr th {\n",
       "        vertical-align: top;\n",
       "    }\n",
       "\n",
       "    .dataframe thead th {\n",
       "        text-align: right;\n",
       "    }\n",
       "</style>\n",
       "<table border=\"1\" class=\"dataframe\">\n",
       "  <thead>\n",
       "    <tr style=\"text-align: right;\">\n",
       "      <th></th>\n",
       "      <th>source</th>\n",
       "      <th>key</th>\n",
       "      <th>target</th>\n",
       "      <th>edge_num</th>\n",
       "    </tr>\n",
       "  </thead>\n",
       "  <tbody>\n",
       "    <tr>\n",
       "      <th>0</th>\n",
       "      <td>GO:0001508</td>\n",
       "      <td>actively involved in</td>\n",
       "      <td>MESH:D001007</td>\n",
       "      <td>6</td>\n",
       "    </tr>\n",
       "    <tr>\n",
       "      <th>1</th>\n",
       "      <td>GO:0001508</td>\n",
       "      <td>actively involved in</td>\n",
       "      <td>MESH:D016584</td>\n",
       "      <td>6</td>\n",
       "    </tr>\n",
       "    <tr>\n",
       "      <th>2</th>\n",
       "      <td>GO:0050806</td>\n",
       "      <td>actively involved in</td>\n",
       "      <td>GO:1904058</td>\n",
       "      <td>5</td>\n",
       "    </tr>\n",
       "    <tr>\n",
       "      <th>3</th>\n",
       "      <td>MESH:D003065</td>\n",
       "      <td>actively involved in</td>\n",
       "      <td>REACT:R-HSA-392499</td>\n",
       "      <td>3</td>\n",
       "    </tr>\n",
       "    <tr>\n",
       "      <th>4</th>\n",
       "      <td>CL:0002559</td>\n",
       "      <td>affected by</td>\n",
       "      <td>MESH:D000505</td>\n",
       "      <td>8</td>\n",
       "    </tr>\n",
       "    <tr>\n",
       "      <th>...</th>\n",
       "      <td>...</td>\n",
       "      <td>...</td>\n",
       "      <td>...</td>\n",
       "      <td>...</td>\n",
       "    </tr>\n",
       "    <tr>\n",
       "      <th>6000</th>\n",
       "      <td>UniProt:P35367</td>\n",
       "      <td>treats</td>\n",
       "      <td>MESH:D006255</td>\n",
       "      <td>2</td>\n",
       "    </tr>\n",
       "    <tr>\n",
       "      <th>6001</th>\n",
       "      <td>UniProt:P35367</td>\n",
       "      <td>treats</td>\n",
       "      <td>MESH:D011537</td>\n",
       "      <td>2</td>\n",
       "    </tr>\n",
       "    <tr>\n",
       "      <th>6002</th>\n",
       "      <td>UniProt:P35367</td>\n",
       "      <td>treats</td>\n",
       "      <td>MESH:D012223</td>\n",
       "      <td>2</td>\n",
       "    </tr>\n",
       "    <tr>\n",
       "      <th>6003</th>\n",
       "      <td>UniProt:P35367</td>\n",
       "      <td>treats</td>\n",
       "      <td>MESH:D014581</td>\n",
       "      <td>2</td>\n",
       "    </tr>\n",
       "    <tr>\n",
       "      <th>6004</th>\n",
       "      <td>UniProt:P35367</td>\n",
       "      <td>treats</td>\n",
       "      <td>MESH:D065631</td>\n",
       "      <td>2</td>\n",
       "    </tr>\n",
       "  </tbody>\n",
       "</table>\n",
       "<p>6005 rows × 4 columns</p>\n",
       "</div>"
      ],
      "text/plain": [
       "              source                   key              target  edge_num\n",
       "0         GO:0001508  actively involved in        MESH:D001007         6\n",
       "1         GO:0001508  actively involved in        MESH:D016584         6\n",
       "2         GO:0050806  actively involved in          GO:1904058         5\n",
       "3       MESH:D003065  actively involved in  REACT:R-HSA-392499         3\n",
       "4         CL:0002559           affected by        MESH:D000505         8\n",
       "...              ...                   ...                 ...       ...\n",
       "6000  UniProt:P35367                treats        MESH:D006255         2\n",
       "6001  UniProt:P35367                treats        MESH:D011537         2\n",
       "6002  UniProt:P35367                treats        MESH:D012223         2\n",
       "6003  UniProt:P35367                treats        MESH:D014581         2\n",
       "6004  UniProt:P35367                treats        MESH:D065631         2\n",
       "\n",
       "[6005 rows x 4 columns]"
      ]
     },
     "execution_count": 7,
     "metadata": {},
     "output_type": "execute_result"
    }
   ],
   "source": [
    "dmdb_edges = (dmdb_edges.sort_values('edge_num')\n",
    "                        .drop_duplicates(subset=['source', 'key', 'target'], keep='first')\n",
    "                        .sort_values(['key', 'source', 'target'])\n",
    "                        .reset_index(drop=True))\n",
    "dmdb_edges"
   ]
  },
  {
   "cell_type": "code",
   "execution_count": 8,
   "metadata": {},
   "outputs": [
    {
     "data": {
      "text/plain": [
       "decreases activity of                417\n",
       "increases activity of                159\n",
       "negatively regulates                 156\n",
       "positively regulates                  76\n",
       "treats                                31\n",
       "increases abundance of                30\n",
       "molecularly interacts with            19\n",
       "produces                              18\n",
       "decreases abundance of                16\n",
       "disrupts                              14\n",
       "positively correlated with             6\n",
       "subclass of                            6\n",
       "has metabolite                         5\n",
       "regulates                              4\n",
       "capable of                             4\n",
       "causes                                 4\n",
       "chemically similar to                  4\n",
       "derives into                           4\n",
       "negatively correlated with             3\n",
       "increases degradation of               3\n",
       "part of                                3\n",
       "decreases uptake of                    3\n",
       "participates in                        2\n",
       "prevents                               2\n",
       "increases stability of                 2\n",
       "contributes to                         2\n",
       "produced by                            2\n",
       "interacts with                         2\n",
       "correlated with                        1\n",
       "increases uptake of                    1\n",
       "increases metabolic processing of      1\n",
       "decreases synthesis of                 1\n",
       "directly interacts with                1\n",
       "precedes                               1\n",
       "enabled by                             1\n",
       "Name: key, dtype: int64"
      ]
     },
     "execution_count": 8,
     "metadata": {},
     "output_type": "execute_result"
    }
   ],
   "source": [
    "dmdb_edges.query('edge_num == 1')['key'].value_counts()"
   ]
  },
  {
   "cell_type": "code",
   "execution_count": 9,
   "metadata": {},
   "outputs": [],
   "source": []
  },
  {
   "cell_type": "code",
   "execution_count": 10,
   "metadata": {},
   "outputs": [
    {
     "data": {
      "text/html": [
       "<div>\n",
       "<style scoped>\n",
       "    .dataframe tbody tr th:only-of-type {\n",
       "        vertical-align: middle;\n",
       "    }\n",
       "\n",
       "    .dataframe tbody tr th {\n",
       "        vertical-align: top;\n",
       "    }\n",
       "\n",
       "    .dataframe thead th {\n",
       "        text-align: right;\n",
       "    }\n",
       "</style>\n",
       "<table border=\"1\" class=\"dataframe\">\n",
       "  <thead>\n",
       "    <tr style=\"text-align: right;\">\n",
       "      <th></th>\n",
       "      <th>id</th>\n",
       "      <th>name</th>\n",
       "      <th>label</th>\n",
       "    </tr>\n",
       "  </thead>\n",
       "  <tbody>\n",
       "    <tr>\n",
       "      <th>1</th>\n",
       "      <td>UniProt:P00519</td>\n",
       "      <td>BCR/ABL</td>\n",
       "      <td>Protein</td>\n",
       "    </tr>\n",
       "    <tr>\n",
       "      <th>4</th>\n",
       "      <td>UniProt:P10721</td>\n",
       "      <td>c-Kit</td>\n",
       "      <td>Protein</td>\n",
       "    </tr>\n",
       "    <tr>\n",
       "      <th>5</th>\n",
       "      <td>UniProt:P16234</td>\n",
       "      <td>Pdgf</td>\n",
       "      <td>Protein</td>\n",
       "    </tr>\n",
       "    <tr>\n",
       "      <th>9</th>\n",
       "      <td>UniProt:P23219</td>\n",
       "      <td>Cox-1</td>\n",
       "      <td>Protein</td>\n",
       "    </tr>\n",
       "    <tr>\n",
       "      <th>10</th>\n",
       "      <td>UniProt:P35354</td>\n",
       "      <td>Cox-2</td>\n",
       "      <td>Protein</td>\n",
       "    </tr>\n",
       "    <tr>\n",
       "      <th>...</th>\n",
       "      <td>...</td>\n",
       "      <td>...</td>\n",
       "      <td>...</td>\n",
       "    </tr>\n",
       "    <tr>\n",
       "      <th>12084</th>\n",
       "      <td>UniProt:P28223</td>\n",
       "      <td>5-hydroxytryptamine receptor 2A</td>\n",
       "      <td>Protein</td>\n",
       "    </tr>\n",
       "    <tr>\n",
       "      <th>12085</th>\n",
       "      <td>UniProt:P08908</td>\n",
       "      <td>5-hydroxytryptamine receptor 1A</td>\n",
       "      <td>Protein</td>\n",
       "    </tr>\n",
       "    <tr>\n",
       "      <th>12093</th>\n",
       "      <td>UniProt:P14416</td>\n",
       "      <td>D(2) dopamine receptor</td>\n",
       "      <td>Protein</td>\n",
       "    </tr>\n",
       "    <tr>\n",
       "      <th>12094</th>\n",
       "      <td>UniProt:P28223</td>\n",
       "      <td>5-hydroxytryptamine receptor 2A</td>\n",
       "      <td>Protein</td>\n",
       "    </tr>\n",
       "    <tr>\n",
       "      <th>12095</th>\n",
       "      <td>UniProt:P08908</td>\n",
       "      <td>5-hydroxytryptamine receptor 1A</td>\n",
       "      <td>Protein</td>\n",
       "    </tr>\n",
       "  </tbody>\n",
       "</table>\n",
       "<p>2291 rows × 3 columns</p>\n",
       "</div>"
      ],
      "text/plain": [
       "                   id                             name    label\n",
       "1      UniProt:P00519                          BCR/ABL  Protein\n",
       "4      UniProt:P10721                            c-Kit  Protein\n",
       "5      UniProt:P16234                             Pdgf  Protein\n",
       "9      UniProt:P23219                            Cox-1  Protein\n",
       "10     UniProt:P35354                            Cox-2  Protein\n",
       "...               ...                              ...      ...\n",
       "12084  UniProt:P28223  5-hydroxytryptamine receptor 2A  Protein\n",
       "12085  UniProt:P08908  5-hydroxytryptamine receptor 1A  Protein\n",
       "12093  UniProt:P14416           D(2) dopamine receptor  Protein\n",
       "12094  UniProt:P28223  5-hydroxytryptamine receptor 2A  Protein\n",
       "12095  UniProt:P08908  5-hydroxytryptamine receptor 1A  Protein\n",
       "\n",
       "[2291 rows x 3 columns]"
      ]
     },
     "execution_count": 10,
     "metadata": {},
     "output_type": "execute_result"
    }
   ],
   "source": [
    "dmdb_nodes.query('label == \"Protein\"')"
   ]
  },
  {
   "cell_type": "code",
   "execution_count": 7,
   "metadata": {},
   "outputs": [],
   "source": [
    "mg = get_client('gene')\n",
    "mc = get_client('chem')"
   ]
  },
  {
   "cell_type": "code",
   "execution_count": 8,
   "metadata": {},
   "outputs": [],
   "source": [
    "def uniprot_to_ncbi(uid):\n",
    "    qid = uid.split(':')[-1]\n",
    "    \n",
    "    res = mg.query('uniprot:{}'.format(qid))\n",
    "    if len(res.get('hits', [])) == 0:\n",
    "        return None\n",
    "    elif len(res.get('hits', [])) == 1:\n",
    "        return 'NCBIGENE:{}'.format(res['hits'][0]['entrezgene'])\n",
    "    else:\n",
    "        return ['NCBIGENE:{}'.format(r['entrezgene']) for r in res['hits']]"
   ]
  },
  {
   "cell_type": "code",
   "execution_count": 9,
   "metadata": {},
   "outputs": [
    {
     "data": {
      "text/plain": [
       "'NCBIGENE:3815'"
      ]
     },
     "execution_count": 9,
     "metadata": {},
     "output_type": "execute_result"
    }
   ],
   "source": [
    "uniprot_to_ncbi('UniProt:P10721')"
   ]
  },
  {
   "cell_type": "code",
   "execution_count": 10,
   "metadata": {},
   "outputs": [
    {
     "data": {
      "text/plain": [
       "'NCBIGENE:1017'"
      ]
     },
     "execution_count": 10,
     "metadata": {},
     "output_type": "execute_result"
    }
   ],
   "source": [
    "uniprot_to_ncbi('UniProt:P24941')"
   ]
  },
  {
   "cell_type": "code",
   "execution_count": 15,
   "metadata": {},
   "outputs": [
    {
     "name": "stdout",
     "output_type": "stream",
     "text": [
      "querying 1-518...done.\n",
      "Finished.\n",
      "5 input query terms found dup hits:\n",
      "\t[('P0A7S3', 2), ('P0A0H0', 2), ('P0DP23', 3), ('B4DP61', 2), ('P9WGR1', 2)]\n",
      "72 input query terms found no hit:\n",
      "\t['P43702', 'P0C1U9', 'P20831', 'O05131', 'P44350', 'P72525', 'P44469', 'P08546', 'P0A0Z5', 'P0A3M6',\n",
      "Pass \"returnall=True\" to return complete lists of duplicate or missing query terms.\n"
     ]
    }
   ],
   "source": [
    "query_prots = dmdb_nodes[dmdb_nodes['id'].str.startswith('UniProt:')]['id'].unique().tolist()\n",
    "qr = mg.querymany([p.split(':')[-1] for p in query_prots], scopes='uniprot')"
   ]
  },
  {
   "cell_type": "code",
   "execution_count": 16,
   "metadata": {},
   "outputs": [],
   "source": [
    "uniprot_to_entrez = defaultdict(list)\n",
    "\n",
    "for r in qr:\n",
    "    uniprot_to_entrez['uniprot'].append('UniProt:'+r['query'])\n",
    "    try:\n",
    "        uniprot_to_entrez['entrez'].append('NCBIGENE:'+r['entrezgene'])\n",
    "    except KeyError:\n",
    "        uniprot_to_entrez['entrez'].append(float('nan'))\n",
    "uniprot_to_entrez = pd.DataFrame(uniprot_to_entrez)"
   ]
  },
  {
   "cell_type": "code",
   "execution_count": 17,
   "metadata": {},
   "outputs": [
    {
     "data": {
      "text/html": [
       "<div>\n",
       "<style scoped>\n",
       "    .dataframe tbody tr th:only-of-type {\n",
       "        vertical-align: middle;\n",
       "    }\n",
       "\n",
       "    .dataframe tbody tr th {\n",
       "        vertical-align: top;\n",
       "    }\n",
       "\n",
       "    .dataframe thead th {\n",
       "        text-align: right;\n",
       "    }\n",
       "</style>\n",
       "<table border=\"1\" class=\"dataframe\">\n",
       "  <thead>\n",
       "    <tr style=\"text-align: right;\">\n",
       "      <th></th>\n",
       "      <th>uniprot</th>\n",
       "      <th>entrez</th>\n",
       "    </tr>\n",
       "  </thead>\n",
       "  <tbody>\n",
       "    <tr>\n",
       "      <th>0</th>\n",
       "      <td>UniProt:P00519</td>\n",
       "      <td>NCBIGENE:25</td>\n",
       "    </tr>\n",
       "    <tr>\n",
       "      <th>1</th>\n",
       "      <td>UniProt:P10721</td>\n",
       "      <td>NCBIGENE:3815</td>\n",
       "    </tr>\n",
       "    <tr>\n",
       "      <th>2</th>\n",
       "      <td>UniProt:P16234</td>\n",
       "      <td>NCBIGENE:5156</td>\n",
       "    </tr>\n",
       "    <tr>\n",
       "      <th>3</th>\n",
       "      <td>UniProt:P23219</td>\n",
       "      <td>NCBIGENE:5742</td>\n",
       "    </tr>\n",
       "    <tr>\n",
       "      <th>4</th>\n",
       "      <td>UniProt:P35354</td>\n",
       "      <td>NCBIGENE:5743</td>\n",
       "    </tr>\n",
       "    <tr>\n",
       "      <th>5</th>\n",
       "      <td>UniProt:P43702</td>\n",
       "      <td>NaN</td>\n",
       "    </tr>\n",
       "    <tr>\n",
       "      <th>6</th>\n",
       "      <td>UniProt:P04150</td>\n",
       "      <td>NCBIGENE:2908</td>\n",
       "    </tr>\n",
       "    <tr>\n",
       "      <th>7</th>\n",
       "      <td>UniProt:P04083</td>\n",
       "      <td>NCBIGENE:301</td>\n",
       "    </tr>\n",
       "    <tr>\n",
       "      <th>8</th>\n",
       "      <td>UniProt:P0A7S3</td>\n",
       "      <td>NCBIGENE:53886437</td>\n",
       "    </tr>\n",
       "    <tr>\n",
       "      <th>9</th>\n",
       "      <td>UniProt:P0A7S3</td>\n",
       "      <td>NCBIGENE:947845</td>\n",
       "    </tr>\n",
       "  </tbody>\n",
       "</table>\n",
       "</div>"
      ],
      "text/plain": [
       "          uniprot             entrez\n",
       "0  UniProt:P00519        NCBIGENE:25\n",
       "1  UniProt:P10721      NCBIGENE:3815\n",
       "2  UniProt:P16234      NCBIGENE:5156\n",
       "3  UniProt:P23219      NCBIGENE:5742\n",
       "4  UniProt:P35354      NCBIGENE:5743\n",
       "5  UniProt:P43702                NaN\n",
       "6  UniProt:P04150      NCBIGENE:2908\n",
       "7  UniProt:P04083       NCBIGENE:301\n",
       "8  UniProt:P0A7S3  NCBIGENE:53886437\n",
       "9  UniProt:P0A7S3    NCBIGENE:947845"
      ]
     },
     "execution_count": 17,
     "metadata": {},
     "output_type": "execute_result"
    }
   ],
   "source": [
    "uniprot_to_entrez.head(10)"
   ]
  },
  {
   "cell_type": "code",
   "execution_count": 18,
   "metadata": {},
   "outputs": [
    {
     "data": {
      "text/plain": [
       "MESH         4583\n",
       "GO           3211\n",
       "UniProt      2263\n",
       "NCBITaxon     428\n",
       "HP            425\n",
       "InterPro      289\n",
       "UBERON        282\n",
       "REACT         218\n",
       "CHEBI         161\n",
       "DB            104\n",
       "CL             99\n",
       "Pfam           23\n",
       "PR             13\n",
       "TIGR            3\n",
       "Name: id, dtype: int64"
      ]
     },
     "execution_count": 18,
     "metadata": {},
     "output_type": "execute_result"
    }
   ],
   "source": [
    "dmdb_nodes['id'].apply(lambda s: s.split(':')[0]).value_counts()"
   ]
  },
  {
   "cell_type": "code",
   "execution_count": 73,
   "metadata": {},
   "outputs": [],
   "source": [
    "d = {\n",
    "    \"message\": {\n",
    "        \"query_graph\": {\n",
    "            \"nodes\": {\n",
    "                \"n0\": {\n",
    "                    \"category\": \"biolink:Gene\",\n",
    "                    \"id\": []\n",
    "                },\n",
    "                \"n1\": {\n",
    "                    \"category\": \"biolink:ChemicalSubstance\"\n",
    "                }\n",
    "            },\n",
    "            \"edges\": {\n",
    "                \"e01\": {\n",
    "                    \"subject\": \"n0\",\n",
    "                    \"object\": \"n1\"\n",
    "                }\n",
    "            }\n",
    "        }\n",
    "    }\n",
    "}\n",
    "\n",
    "def chunk_list(list_data, chunk_size):\n",
    "    for i in range(0, len(list_data), chunk_size): \n",
    "        yield list_data[i:i + chunk_size]"
   ]
  },
  {
   "cell_type": "code",
   "execution_count": 20,
   "metadata": {},
   "outputs": [],
   "source": [
    "def process_bte_result(result):\n",
    "    out = defaultdict(list)\n",
    "    for res in result.json()['message']['results']:\n",
    "        out['n0'].append(res['node_bindings']['n0'][0]['id'])\n",
    "        out['e01'].append(res['edge_bindings']['e01'][0]['id'].split('-')[1])\n",
    "        out['n1'].append(res['node_bindings']['n1'][0]['id'])\n",
    "    return pd.DataFrame(out)"
   ]
  },
  {
   "cell_type": "code",
   "execution_count": 67,
   "metadata": {},
   "outputs": [],
   "source": [
    "URL = \"https://api.bte.ncats.io/v1/query\""
   ]
  },
  {
   "cell_type": "markdown",
   "metadata": {},
   "source": [
    "## Confirm that Batch yields same result as individual"
   ]
  },
  {
   "cell_type": "code",
   "execution_count": 22,
   "metadata": {},
   "outputs": [
    {
     "name": "stdout",
     "output_type": "stream",
     "text": [
      "CPU times: user 52.9 ms, sys: 3.92 ms, total: 56.8 ms\n",
      "Wall time: 6.73 s\n"
     ]
    }
   ],
   "source": [
    "%%time\n",
    "n = next(chunk_list(uniprot_to_entrez['entrez'].dropna().unique().tolist(), chunk_size=10))\n",
    "d['message']['query_graph']['nodes']['n0']['id'] = n\n",
    "r = requests.post(URL, json=d)\n",
    "batch = process_bte_result(r)"
   ]
  },
  {
   "cell_type": "code",
   "execution_count": 49,
   "metadata": {},
   "outputs": [],
   "source": [
    "import time"
   ]
  },
  {
   "cell_type": "code",
   "execution_count": 74,
   "metadata": {
    "scrolled": true
   },
   "outputs": [
    {
     "name": "stdout",
     "output_type": "stream",
     "text": [
      "CPU times: user 285 ms, sys: 4.24 ms, total: 289 ms\n",
      "Wall time: 4min 39s\n"
     ]
    }
   ],
   "source": [
    "%%time\n",
    "individual = []\n",
    "for i, n in enumerate(next(chunk_list(uniprot_to_entrez['entrez'].dropna().unique().tolist(), chunk_size=10))):\n",
    "    d['message']['query_graph']['nodes']['n0']['id'] = n\n",
    "    r = requests.post(URL, json=d)\n",
    "    individual.append(process_bte_result(r))\n",
    "    ## New rate-limiting step on production makes this comparison more challenging...\n",
    "    if i % 3 == 0:\n",
    "        time.sleep(60)\n",
    "individual = pd.concat(individual, ignore_index=True)"
   ]
  },
  {
   "cell_type": "code",
   "execution_count": 93,
   "metadata": {},
   "outputs": [],
   "source": [
    "from data_tools.plotting import venn2_pretty\n",
    "import matplotlib.pyplot as plt"
   ]
  },
  {
   "cell_type": "code",
   "execution_count": 75,
   "metadata": {},
   "outputs": [
    {
     "data": {
      "text/plain": [
       "<matplotlib_venn._common.VennDiagram at 0x7f29a468cf40>"
      ]
     },
     "execution_count": 75,
     "metadata": {},
     "output_type": "execute_result"
    },
    {
     "data": {
      "image/png": "[encoded data removed]",
      "text/plain": [
       "<Figure size 432x288 with 1 Axes>"
      ]
     },
     "metadata": {},
     "output_type": "display_data"
    }
   ],
   "source": [
    "venn2_pretty([set(individual.apply(tuple, axis=1)), set(batch.apply(tuple, axis=1))], ('Individual', 'Batch'))"
   ]
  },
  {
   "cell_type": "markdown",
   "metadata": {},
   "source": [
    "## Confirm Local query produces same result as Production"
   ]
  },
  {
   "cell_type": "code",
   "execution_count": 76,
   "metadata": {},
   "outputs": [],
   "source": [
    "URL = \"http://localhost:3000/v1/query\""
   ]
  },
  {
   "cell_type": "code",
   "execution_count": 77,
   "metadata": {},
   "outputs": [
    {
     "name": "stdout",
     "output_type": "stream",
     "text": [
      "CPU times: user 46.9 ms, sys: 49 µs, total: 47 ms\n",
      "Wall time: 7.21 s\n"
     ]
    }
   ],
   "source": [
    "%%time\n",
    "n = next(chunk_list(uniprot_to_entrez['entrez'].dropna().unique().tolist(), chunk_size=10))\n",
    "d['message']['query_graph']['nodes']['n0']['id'] = n\n",
    "r = requests.post(URL, json=d)\n",
    "batch_local = process_bte_result(r)"
   ]
  },
  {
   "cell_type": "code",
   "execution_count": 95,
   "metadata": {
    "scrolled": true
   },
   "outputs": [
    {
     "ename": "KeyError",
     "evalue": "'message'",
     "output_type": "error",
     "traceback": [
      "\u001b[0;31m---------------------------------------------------------------------------\u001b[0m",
      "\u001b[0;31mKeyError\u001b[0m                                  Traceback (most recent call last)",
      "\u001b[0;32m<timed exec>\u001b[0m in \u001b[0;36m<module>\u001b[0;34m\u001b[0m\n",
      "\u001b[0;32m<ipython-input-20-72faae7b4bd9>\u001b[0m in \u001b[0;36mprocess_bte_result\u001b[0;34m(result)\u001b[0m\n\u001b[1;32m      1\u001b[0m \u001b[0;32mdef\u001b[0m \u001b[0mprocess_bte_result\u001b[0m\u001b[0;34m(\u001b[0m\u001b[0mresult\u001b[0m\u001b[0;34m)\u001b[0m\u001b[0;34m:\u001b[0m\u001b[0;34m\u001b[0m\u001b[0;34m\u001b[0m\u001b[0m\n\u001b[1;32m      2\u001b[0m     \u001b[0mout\u001b[0m \u001b[0;34m=\u001b[0m \u001b[0mdefaultdict\u001b[0m\u001b[0;34m(\u001b[0m\u001b[0mlist\u001b[0m\u001b[0;34m)\u001b[0m\u001b[0;34m\u001b[0m\u001b[0;34m\u001b[0m\u001b[0m\n\u001b[0;32m----> 3\u001b[0;31m     \u001b[0;32mfor\u001b[0m \u001b[0mres\u001b[0m \u001b[0;32min\u001b[0m \u001b[0mresult\u001b[0m\u001b[0;34m.\u001b[0m\u001b[0mjson\u001b[0m\u001b[0;34m(\u001b[0m\u001b[0;34m)\u001b[0m\u001b[0;34m[\u001b[0m\u001b[0;34m'message'\u001b[0m\u001b[0;34m]\u001b[0m\u001b[0;34m[\u001b[0m\u001b[0;34m'results'\u001b[0m\u001b[0;34m]\u001b[0m\u001b[0;34m:\u001b[0m\u001b[0;34m\u001b[0m\u001b[0;34m\u001b[0m\u001b[0m\n\u001b[0m\u001b[1;32m      4\u001b[0m         \u001b[0mout\u001b[0m\u001b[0;34m[\u001b[0m\u001b[0;34m'n0'\u001b[0m\u001b[0;34m]\u001b[0m\u001b[0;34m.\u001b[0m\u001b[0mappend\u001b[0m\u001b[0;34m(\u001b[0m\u001b[0mres\u001b[0m\u001b[0;34m[\u001b[0m\u001b[0;34m'node_bindings'\u001b[0m\u001b[0;34m]\u001b[0m\u001b[0;34m[\u001b[0m\u001b[0;34m'n0'\u001b[0m\u001b[0;34m]\u001b[0m\u001b[0;34m[\u001b[0m\u001b[0;36m0\u001b[0m\u001b[0;34m]\u001b[0m\u001b[0;34m[\u001b[0m\u001b[0;34m'id'\u001b[0m\u001b[0;34m]\u001b[0m\u001b[0;34m)\u001b[0m\u001b[0;34m\u001b[0m\u001b[0;34m\u001b[0m\u001b[0m\n\u001b[1;32m      5\u001b[0m         \u001b[0mout\u001b[0m\u001b[0;34m[\u001b[0m\u001b[0;34m'e01'\u001b[0m\u001b[0;34m]\u001b[0m\u001b[0;34m.\u001b[0m\u001b[0mappend\u001b[0m\u001b[0;34m(\u001b[0m\u001b[0mres\u001b[0m\u001b[0;34m[\u001b[0m\u001b[0;34m'edge_bindings'\u001b[0m\u001b[0;34m]\u001b[0m\u001b[0;34m[\u001b[0m\u001b[0;34m'e01'\u001b[0m\u001b[0;34m]\u001b[0m\u001b[0;34m[\u001b[0m\u001b[0;36m0\u001b[0m\u001b[0;34m]\u001b[0m\u001b[0;34m[\u001b[0m\u001b[0;34m'id'\u001b[0m\u001b[0;34m]\u001b[0m\u001b[0;34m.\u001b[0m\u001b[0msplit\u001b[0m\u001b[0;34m(\u001b[0m\u001b[0;34m'-'\u001b[0m\u001b[0;34m)\u001b[0m\u001b[0;34m[\u001b[0m\u001b[0;36m1\u001b[0m\u001b[0;34m]\u001b[0m\u001b[0;34m)\u001b[0m\u001b[0;34m\u001b[0m\u001b[0;34m\u001b[0m\u001b[0m\n",
      "\u001b[0;31mKeyError\u001b[0m: 'message'"
     ]
    }
   ],
   "source": [
    "%%time\n",
    "individual_local = []\n",
    "for n in next(chunk_list(uniprot_to_entrez['entrez'].dropna().unique().tolist(), chunk_size=10))[len(individual_local):]:\n",
    "    d['message']['query_graph']['nodes']['n0']['id'] = n\n",
    "    r = requests.post(URL, json=d)\n",
    "    individual_local.append(process_bte_result(r))\n",
    "individual_local = pd.concat(individual_local, ignore_index=True)"
   ]
  },
  {
   "cell_type": "code",
   "execution_count": 97,
   "metadata": {},
   "outputs": [
    {
     "data": {
      "text/plain": [
       "<Response [500]>"
      ]
     },
     "execution_count": 97,
     "metadata": {},
     "output_type": "execute_result"
    }
   ],
   "source": [
    "r"
   ]
  },
  {
   "cell_type": "code",
   "execution_count": 98,
   "metadata": {},
   "outputs": [
    {
     "data": {
      "text/plain": [
       "'{\"error\":\"SyntaxError: Unexpected end of JSON input\"}'"
      ]
     },
     "execution_count": 98,
     "metadata": {},
     "output_type": "execute_result"
    }
   ],
   "source": [
    "r.text"
   ]
  },
  {
   "cell_type": "code",
   "execution_count": 96,
   "metadata": {},
   "outputs": [
    {
     "data": {
      "text/plain": [
       "{'message': {'query_graph': {'nodes': {'n0': {'category': 'biolink:Gene',\n",
       "     'id': 'NCBIGENE:25'},\n",
       "    'n1': {'category': 'biolink:ChemicalSubstance'}},\n",
       "   'edges': {'e01': {'subject': 'n0', 'object': 'n1'}}}}}"
      ]
     },
     "execution_count": 96,
     "metadata": {},
     "output_type": "execute_result"
    }
   ],
   "source": [
    "d"
   ]
  },
  {
   "cell_type": "code",
   "execution_count": 92,
   "metadata": {},
   "outputs": [
    {
     "data": {
      "image/png": "[encoded data removed]",
      "text/plain": [
       "<Figure size 432x288 with 1 Axes>"
      ]
     },
     "metadata": {},
     "output_type": "display_data"
    }
   ],
   "source": [
    "venn2_pretty([set(individual_local.apply(tuple, axis=1)), set(batch_local.apply(tuple, axis=1))], ('Individual', 'Batch'))\n",
    "plt.title('Local Instance: Individual vs Batch');"
   ]
  },
  {
   "cell_type": "code",
   "execution_count": 83,
   "metadata": {},
   "outputs": [
    {
     "data": {
      "text/plain": [
       "<matplotlib_venn._common.VennDiagram at 0x7f29a6d9db20>"
      ]
     },
     "execution_count": 83,
     "metadata": {},
     "output_type": "execute_result"
    },
    {
     "data": {
      "image/png": "[encoded data removed]",
      "text/plain": [
       "<Figure size 432x288 with 1 Axes>"
      ]
     },
     "metadata": {},
     "output_type": "display_data"
    }
   ],
   "source": [
    "venn2_pretty([set(individual.apply(tuple, axis=1)), set(individual_local.apply(tuple, axis=1))], ('Individual - Prod', 'Individual - Local'))"
   ]
  },
  {
   "cell_type": "code",
   "execution_count": 84,
   "metadata": {},
   "outputs": [
    {
     "data": {
      "text/plain": [
       "(1700, 1700)"
      ]
     },
     "execution_count": 84,
     "metadata": {},
     "output_type": "execute_result"
    }
   ],
   "source": [
    "len(individual.drop_duplicates()), len(individual_local.drop_duplicates())"
   ]
  },
  {
   "cell_type": "code",
   "execution_count": 85,
   "metadata": {},
   "outputs": [
    {
     "data": {
      "text/plain": [
       "<matplotlib_venn._common.VennDiagram at 0x7f299fc886d0>"
      ]
     },
     "execution_count": 85,
     "metadata": {},
     "output_type": "execute_result"
    },
    {
     "data": {
      "image/png": "[encoded data removed]",
      "text/plain": [
       "<Figure size 432x288 with 1 Axes>"
      ]
     },
     "metadata": {},
     "output_type": "display_data"
    }
   ],
   "source": [
    "venn2_pretty([set(batch.apply(tuple, axis=1)), set(batch_local.apply(tuple, axis=1))], ('Bacth - Prod', 'Batch - Local'))"
   ]
  },
  {
   "cell_type": "code",
   "execution_count": 86,
   "metadata": {},
   "outputs": [
    {
     "data": {
      "text/plain": [
       "(1700, 1700)"
      ]
     },
     "execution_count": 86,
     "metadata": {},
     "output_type": "execute_result"
    }
   ],
   "source": [
    "len(batch.drop_duplicates()), len(batch_local.drop_duplicates())"
   ]
  },
  {
   "cell_type": "markdown",
   "metadata": {},
   "source": [
    "### See if there are greater differences cross both variables"
   ]
  },
  {
   "cell_type": "code",
   "execution_count": 87,
   "metadata": {},
   "outputs": [
    {
     "data": {
      "text/plain": [
       "<matplotlib_venn._common.VennDiagram at 0x7f29a045db80>"
      ]
     },
     "execution_count": 87,
     "metadata": {},
     "output_type": "execute_result"
    },
    {
     "data": {
      "image/png": "[encoded data removed]",
      "text/plain": [
       "<Figure size 432x288 with 1 Axes>"
      ]
     },
     "metadata": {},
     "output_type": "display_data"
    }
   ],
   "source": [
    "venn2_pretty([set(batch.apply(tuple, axis=1)), set(individual_local.apply(tuple, axis=1))], ('Bacth - Prod', 'Individual - Local'))"
   ]
  },
  {
   "cell_type": "code",
   "execution_count": 88,
   "metadata": {},
   "outputs": [
    {
     "data": {
      "text/plain": [
       "<matplotlib_venn._common.VennDiagram at 0x7f29a1647be0>"
      ]
     },
     "execution_count": 88,
     "metadata": {},
     "output_type": "execute_result"
    },
    {
     "data": {
      "image/png": "[encoded data removed]",
      "text/plain": [
       "<Figure size 432x288 with 1 Axes>"
      ]
     },
     "metadata": {},
     "output_type": "display_data"
    }
   ],
   "source": [
    "venn2_pretty([set(individual.apply(tuple, axis=1)), set(batch_local.apply(tuple, axis=1))], ('Individual - Prod', 'batch - Local'))"
   ]
  },
  {
   "cell_type": "code",
   "execution_count": null,
   "metadata": {},
   "outputs": [],
   "source": []
  },
  {
   "cell_type": "code",
   "execution_count": null,
   "metadata": {},
   "outputs": [],
   "source": []
  },
  {
   "cell_type": "code",
   "execution_count": 99,
   "metadata": {},
   "outputs": [],
   "source": [
    "import json"
   ]
  },
  {
   "cell_type": "code",
   "execution_count": 105,
   "metadata": {},
   "outputs": [],
   "source": [
    "import simplejson"
   ]
  },
  {
   "cell_type": "code",
   "execution_count": 106,
   "metadata": {},
   "outputs": [
    {
     "data": {
      "text/plain": [
       "'{\"message\": {\"query_graph\": {\"nodes\": {\"n0\": {\"category\": \"biolink:Gene\", \"id\": \"NCBIGENE:25\"}, \"n1\": {\"category\": \"biolink:ChemicalSubstance\"}}, \"edges\": {\"e01\": {\"subject\": \"n0\", \"object\": \"n1\"}}}}}'"
      ]
     },
     "execution_count": 106,
     "metadata": {},
     "output_type": "execute_result"
    }
   ],
   "source": [
    "simplejson.dumps(d)"
   ]
  },
  {
   "cell_type": "code",
   "execution_count": 116,
   "metadata": {},
   "outputs": [
    {
     "data": {
      "text/plain": [
       "'{\"error\":\"SyntaxError: Unexpected end of JSON input\"}'"
      ]
     },
     "execution_count": 116,
     "metadata": {},
     "output_type": "execute_result"
    }
   ],
   "source": [
    "d = {\"message\": {\"query_graph\": {\"nodes\": {\"n0\": {\"category\": \"biolink:Gene\",\n",
    "     \"id\": \"NCBIGENE:25\"},\n",
    "    \"n1\": {\"category\": \"biolink:ChemicalSubstance\"}},\n",
    "   \"edges\": {\"e01\": {\"subject\": \"n0\", \"object\": \"n1\"}}}}}\n",
    "\n",
    "URL = \"http://localhost:3000/v1/query\"\n",
    "\n",
    "r = requests.post(URL, json=d)\n",
    "r.text"
   ]
  },
  {
   "cell_type": "code",
   "execution_count": 111,
   "metadata": {},
   "outputs": [
    {
     "name": "stdout",
     "output_type": "stream",
     "text": [
      "{'message': {'query_graph': {'nodes': {'n0': {'category': 'biolink:Gene', 'id': 'NCBIGENE:25'}, 'n1': {'category': 'biolink:ChemicalSubstance'}}, 'edges': {'e01': {'subject': 'n0', 'object': 'n1'}}}}}\n"
     ]
    }
   ],
   "source": [
    "print(d)"
   ]
  },
  {
   "cell_type": "code",
   "execution_count": 110,
   "metadata": {},
   "outputs": [
    {
     "data": {
      "text/plain": [
       "{'message': {'query_graph': {'nodes': {'n0': {'category': 'biolink:Gene',\n",
       "     'id': 'NCBIGENE:25'},\n",
       "    'n1': {'category': 'biolink:ChemicalSubstance'}},\n",
       "   'edges': {'e01': {'subject': 'n0', 'object': 'n1'}}}}}"
      ]
     },
     "execution_count": 110,
     "metadata": {},
     "output_type": "execute_result"
    }
   ],
   "source": [
    "d"
   ]
  },
  {
   "cell_type": "code",
   "execution_count": 53,
   "metadata": {},
   "outputs": [],
   "source": [
    "URL = \"https://api.bte.ncats.io/v1/query\"\n",
    "r = requests.post(URL, json=d)"
   ]
  },
  {
   "cell_type": "code",
   "execution_count": null,
   "metadata": {},
   "outputs": [],
   "source": []
  },
  {
   "cell_type": "code",
   "execution_count": null,
   "metadata": {},
   "outputs": [],
   "source": []
  },
  {
   "cell_type": "code",
   "execution_count": null,
   "metadata": {},
   "outputs": [],
   "source": []
  },
  {
   "cell_type": "code",
   "execution_count": null,
   "metadata": {},
   "outputs": [],
   "source": []
  },
  {
   "cell_type": "code",
   "execution_count": null,
   "metadata": {},
   "outputs": [],
   "source": []
  },
  {
   "cell_type": "code",
   "execution_count": null,
   "metadata": {},
   "outputs": [],
   "source": []
  },
  {
   "cell_type": "code",
   "execution_count": 26,
   "metadata": {},
   "outputs": [
    {
     "data": {
      "text/html": [
       "<div>\n",
       "<style scoped>\n",
       "    .dataframe tbody tr th:only-of-type {\n",
       "        vertical-align: middle;\n",
       "    }\n",
       "\n",
       "    .dataframe tbody tr th {\n",
       "        vertical-align: top;\n",
       "    }\n",
       "\n",
       "    .dataframe thead th {\n",
       "        text-align: right;\n",
       "    }\n",
       "</style>\n",
       "<table border=\"1\" class=\"dataframe\">\n",
       "  <thead>\n",
       "    <tr style=\"text-align: right;\">\n",
       "      <th></th>\n",
       "      <th>n0</th>\n",
       "      <th>e01</th>\n",
       "      <th>n1</th>\n",
       "    </tr>\n",
       "  </thead>\n",
       "  <tbody>\n",
       "    <tr>\n",
       "      <th>0</th>\n",
       "      <td>NCBIGENE:25</td>\n",
       "      <td>biolink:related_to</td>\n",
       "      <td>CHEBI:52172</td>\n",
       "    </tr>\n",
       "    <tr>\n",
       "      <th>1</th>\n",
       "      <td>NCBIGENE:25</td>\n",
       "      <td>biolink:related_to</td>\n",
       "      <td>CHEBI:45783</td>\n",
       "    </tr>\n",
       "    <tr>\n",
       "      <th>2</th>\n",
       "      <td>NCBIGENE:25</td>\n",
       "      <td>biolink:related_to</td>\n",
       "      <td>CHEBI:49375</td>\n",
       "    </tr>\n",
       "    <tr>\n",
       "      <th>3</th>\n",
       "      <td>NCBIGENE:25</td>\n",
       "      <td>biolink:related_to</td>\n",
       "      <td>CHEBI:68647</td>\n",
       "    </tr>\n",
       "    <tr>\n",
       "      <th>4</th>\n",
       "      <td>NCBIGENE:25</td>\n",
       "      <td>biolink:related_to</td>\n",
       "      <td>CHEBI:45783</td>\n",
       "    </tr>\n",
       "    <tr>\n",
       "      <th>...</th>\n",
       "      <td>...</td>\n",
       "      <td>...</td>\n",
       "      <td>...</td>\n",
       "    </tr>\n",
       "    <tr>\n",
       "      <th>3458</th>\n",
       "      <td>NCBIGENE:5743</td>\n",
       "      <td>biolink:entity_positively_regulates_entity</td>\n",
       "      <td>MESH:D012333</td>\n",
       "    </tr>\n",
       "    <tr>\n",
       "      <th>3459</th>\n",
       "      <td>NCBIGENE:5743</td>\n",
       "      <td>biolink:entity_positively_regulates_entity</td>\n",
       "      <td>MESH:D015054</td>\n",
       "    </tr>\n",
       "    <tr>\n",
       "      <th>3460</th>\n",
       "      <td>NCBIGENE:5743</td>\n",
       "      <td>biolink:entity_positively_regulates_entity</td>\n",
       "      <td>MESH:D017886</td>\n",
       "    </tr>\n",
       "    <tr>\n",
       "      <th>3461</th>\n",
       "      <td>NCBIGENE:5743</td>\n",
       "      <td>biolink:entity_positively_regulates_entity</td>\n",
       "      <td>DRUGBANK:DB08818</td>\n",
       "    </tr>\n",
       "    <tr>\n",
       "      <th>3462</th>\n",
       "      <td>NCBIGENE:5743</td>\n",
       "      <td>biolink:entity_positively_regulates_entity</td>\n",
       "      <td>MESH:D034741</td>\n",
       "    </tr>\n",
       "  </tbody>\n",
       "</table>\n",
       "<p>3463 rows × 3 columns</p>\n",
       "</div>"
      ],
      "text/plain": [
       "                 n0                                         e01  \\\n",
       "0       NCBIGENE:25                          biolink:related_to   \n",
       "1       NCBIGENE:25                          biolink:related_to   \n",
       "2       NCBIGENE:25                          biolink:related_to   \n",
       "3       NCBIGENE:25                          biolink:related_to   \n",
       "4       NCBIGENE:25                          biolink:related_to   \n",
       "...             ...                                         ...   \n",
       "3458  NCBIGENE:5743  biolink:entity_positively_regulates_entity   \n",
       "3459  NCBIGENE:5743  biolink:entity_positively_regulates_entity   \n",
       "3460  NCBIGENE:5743  biolink:entity_positively_regulates_entity   \n",
       "3461  NCBIGENE:5743  biolink:entity_positively_regulates_entity   \n",
       "3462  NCBIGENE:5743  biolink:entity_positively_regulates_entity   \n",
       "\n",
       "                    n1  \n",
       "0          CHEBI:52172  \n",
       "1          CHEBI:45783  \n",
       "2          CHEBI:49375  \n",
       "3          CHEBI:68647  \n",
       "4          CHEBI:45783  \n",
       "...                ...  \n",
       "3458      MESH:D012333  \n",
       "3459      MESH:D015054  \n",
       "3460      MESH:D017886  \n",
       "3461  DRUGBANK:DB08818  \n",
       "3462      MESH:D034741  \n",
       "\n",
       "[3463 rows x 3 columns]"
      ]
     },
     "execution_count": 26,
     "metadata": {},
     "output_type": "execute_result"
    }
   ],
   "source": [
    "results[0]"
   ]
  },
  {
   "cell_type": "code",
   "execution_count": null,
   "metadata": {},
   "outputs": [],
   "source": []
  },
  {
   "cell_type": "code",
   "execution_count": null,
   "metadata": {},
   "outputs": [],
   "source": []
  },
  {
   "cell_type": "code",
   "execution_count": null,
   "metadata": {},
   "outputs": [],
   "source": [
    "results"
   ]
  },
  {
   "cell_type": "code",
   "execution_count": 32,
   "metadata": {},
   "outputs": [],
   "source": []
  },
  {
   "cell_type": "code",
   "execution_count": null,
   "metadata": {},
   "outputs": [],
   "source": []
  },
  {
   "cell_type": "code",
   "execution_count": 65,
   "metadata": {},
   "outputs": [
    {
     "data": {
      "text/plain": [
       "{'node_bindings': {'n0': [{'id': 'NCBIGENE:1017'}],\n",
       "  'n1': [{'id': 'CHEBI:85164'}]},\n",
       " 'edge_bindings': {'e01': [{'id': 'NCBIGENE:1017-biolink:physically_interacts_with-CHEBI:85164'}]}}"
      ]
     },
     "execution_count": 65,
     "metadata": {},
     "output_type": "execute_result"
    }
   ],
   "source": [
    "result"
   ]
  },
  {
   "cell_type": "code",
   "execution_count": null,
   "metadata": {},
   "outputs": [],
   "source": []
  },
  {
   "cell_type": "code",
   "execution_count": null,
   "metadata": {},
   "outputs": [],
   "source": []
  },
  {
   "cell_type": "code",
   "execution_count": 46,
   "metadata": {},
   "outputs": [
    {
     "data": {
      "text/plain": [
       "{'node_bindings': {'n0': [{'id': 'NCBIGENE:25'}],\n",
       "  'n1': [{'id': 'CHEBI:52172'}]},\n",
       " 'edge_bindings': {'e01': [{'id': 'NCBIGENE:25-biolink:related_to-CHEBI:52172'}]}}"
      ]
     },
     "execution_count": 46,
     "metadata": {},
     "output_type": "execute_result"
    }
   ],
   "source": [
    "r.json()['message']['results'][0]"
   ]
  },
  {
   "cell_type": "code",
   "execution_count": 85,
   "metadata": {},
   "outputs": [],
   "source": [
    "out = []\n",
    "for result in r.json()['message']['results']:\n",
    "    out.append(result['node_bindings']['n1'][0]['id'])"
   ]
  },
  {
   "cell_type": "code",
   "execution_count": 86,
   "metadata": {},
   "outputs": [
    {
     "data": {
      "text/plain": [
       "['CHEMBL.COMPOUND:CHEMBL4204794',\n",
       " 'DRUGBANK:DB09103',\n",
       " 'CHEBI:91433',\n",
       " 'DRUGBANK:DB05146',\n",
       " 'CHEBI:52172',\n",
       " 'CHEBI:145373',\n",
       " 'CHEBI:37788',\n",
       " 'CHEBI:91389',\n",
       " 'CHEMBL.COMPOUND:CHEMBL4216467',\n",
       " 'DRUGBANK:DB06080',\n",
       " 'CHEBI:63452',\n",
       " 'CHEBI:38940',\n",
       " 'CHEMBL.COMPOUND:CHEMBL3545376',\n",
       " 'CHEBI:71219',\n",
       " 'CHEBI:45783',\n",
       " 'CHEBI:85994',\n",
       " 'CHEBI:50924',\n",
       " 'CHEBI:78543',\n",
       " 'CHEBI:68647',\n",
       " 'CHEBI:49375',\n",
       " 'CHEMBL.COMPOUND:CHEMBL2103830',\n",
       " 'CHEMBL.COMPOUND:CHEMBL3186534',\n",
       " 'CHEBI:135147',\n",
       " 'CHEBI:72317',\n",
       " 'CHEBI:91327',\n",
       " 'CHEBI:85994',\n",
       " 'CHEBI:7553',\n",
       " 'CHEBI:78543',\n",
       " 'CHEBI:78432',\n",
       " 'CHEBI:49668',\n",
       " 'CHEBI:52172',\n",
       " 'CHEBI:45783',\n",
       " 'CHEBI:71219',\n",
       " 'CHEBI:49375',\n",
       " 'CHEBI:66910',\n",
       " 'CHEMBL.COMPOUND:CHEMBL91829',\n",
       " 'CHEBI:49960',\n",
       " 'CHEBI:114785',\n",
       " 'CHEBI:64310',\n",
       " 'CHEBI:66919',\n",
       " 'CHEBI:50924',\n",
       " 'CHEBI:39112',\n",
       " 'CHEBI:85164',\n",
       " 'CHEBI:38940']"
      ]
     },
     "execution_count": 86,
     "metadata": {},
     "output_type": "execute_result"
    }
   ],
   "source": [
    "out"
   ]
  },
  {
   "cell_type": "code",
   "execution_count": null,
   "metadata": {},
   "outputs": [],
   "source": []
  },
  {
   "cell_type": "code",
   "execution_count": null,
   "metadata": {},
   "outputs": [],
   "source": []
  },
  {
   "cell_type": "code",
   "execution_count": null,
   "metadata": {},
   "outputs": [],
   "source": []
  },
  {
   "cell_type": "code",
   "execution_count": null,
   "metadata": {},
   "outputs": [],
   "source": []
  },
  {
   "cell_type": "code",
   "execution_count": null,
   "metadata": {},
   "outputs": [],
   "source": [
    " "
   ]
  },
  {
   "cell_type": "code",
   "execution_count": null,
   "metadata": {},
   "outputs": [],
   "source": []
  },
  {
   "cell_type": "code",
   "execution_count": null,
   "metadata": {},
   "outputs": [],
   "source": []
  },
  {
   "cell_type": "code",
   "execution_count": null,
   "metadata": {},
   "outputs": [],
   "source": []
  }
 ],
 "metadata": {
  "kernelspec": {
   "display_name": "Python 3",
   "language": "python",
   "name": "python3"
  },
  "language_info": {
   "codemirror_mode": {
    "name": "ipython",
    "version": 3
   },
   "file_extension": ".py",
   "mimetype": "text/x-python",
   "name": "python",
   "nbconvert_exporter": "python",
   "pygments_lexer": "ipython3",
   "version": "3.8.5"
  }
 },
 "nbformat": 4,
 "nbformat_minor": 2
}
