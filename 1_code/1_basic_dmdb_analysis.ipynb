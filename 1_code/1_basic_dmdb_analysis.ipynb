{
 "cells": [
  {
   "cell_type": "markdown",
   "metadata": {},
   "source": [
    "# Basic DMDB Analysis"
   ]
  },
  {
   "cell_type": "code",
   "execution_count": 1,
   "metadata": {},
   "outputs": [
    {
     "name": "stderr",
     "output_type": "stream",
     "text": [
      "/home/asu/env/DMDB_analysis/lib/python3.8/site-packages/data_tools/df_processing.py:4: TqdmExperimentalWarning: Using `tqdm.autonotebook.tqdm` in notebook mode. Use `tqdm.tqdm` instead to force console mode (e.g. in jupyter console)\n",
      "  from tqdm.autonotebook import tqdm\n"
     ]
    }
   ],
   "source": [
    "import pandas as pd\n",
    "import networkx as nx\n",
    "import re\n",
    "import yaml\n",
    "from itertools import chain\n",
    "from pathlib import Path\n",
    "from operator import itemgetter\n",
    "from collections import defaultdict\n",
    "\n",
    "import seaborn as sns\n",
    "import matplotlib.pyplot as plt\n",
    "from data_tools.files import download\n",
    "from path_plots.dmdb_plots import plot_path\n",
    "from data_tools.plotting import count_plot_h, venn2_pretty, venn3_pretty"
   ]
  },
  {
   "cell_type": "code",
   "execution_count": 2,
   "metadata": {},
   "outputs": [],
   "source": [
    "# Make the output folders\n",
    "this_name = '1_basic_dmdb_analysis'\n",
    "out_dir = Path('../2_pipeline').joinpath(this_name, 'out').resolve()\n",
    "out_dir.mkdir(parents=True, exist_ok=True)\n",
    "\n",
    "data_dir = Path('../0_data/external').resolve()\n",
    "data_dir.mkdir(parents=True, exist_ok=True)"
   ]
  },
  {
   "cell_type": "code",
   "execution_count": 3,
   "metadata": {},
   "outputs": [
    {
     "name": "stdout",
     "output_type": "stream",
     "text": [
      "File indication_paths.yaml exits. Skipping...\n"
     ]
    }
   ],
   "source": [
    "DMDB_URL = 'https://raw.githubusercontent.com/SuLab/DrugMechDB/main/indication_paths.yaml'\n",
    "download(DMDB_URL, data_dir.joinpath('indication_paths.yaml'), redownload=False)"
   ]
  },
  {
   "cell_type": "code",
   "execution_count": 4,
   "metadata": {},
   "outputs": [],
   "source": [
    "with open(data_dir.joinpath('indication_paths.yaml'), 'r') as fh:\n",
    "        ind = yaml.safe_load(fh)"
   ]
  },
  {
   "cell_type": "code",
   "execution_count": 5,
   "metadata": {},
   "outputs": [],
   "source": [
    "def path_to_tup(path):\n",
    "    return (path['graph']['drugbank'], path['graph']['disease_mesh'])\n",
    "\n",
    "def path_to_G(path):\n",
    "    return nx.node_link_graph(path)                                                                                        \n",
    "\n",
    "def get_all_paths(path):\n",
    "    source_id = path['links'][0]['source']                                                                              \n",
    "    target_ids = list(set([l['target'] for l in path['links']]) - set([l['source'] for l in path['links']]))\n",
    "    G = path_to_G(path)\n",
    "    this_paths = list(chain(*[list(nx.all_simple_paths(G, source_id, target_id)) for target_id in target_ids]))         \n",
    "    return this_paths\n",
    "\n",
    "def get_id_to_type(G):\n",
    "    id_to_type = {}\n",
    "    for n in G.nodes.data():\n",
    "        id_to_type[n[0]] = n[1]['label']\n",
    "    return id_to_type\n",
    "\n",
    "def get_id_to_name(G):\n",
    "    id_to_name = {}\n",
    "    for n in G.nodes.data():\n",
    "        id_to_name[n[0]] = n[1]['name']\n",
    "    return id_to_name\n",
    "\n",
    "def add_metaedges(G):\n",
    "    id_to_type = get_id_to_type(G)\n",
    "    for e in G.edges:\n",
    "        G.edges[e]['metaedge'] = id_to_type[e[0]] + ' - ' + e[2] + ' - ' + id_to_type[e[1]]\n",
    "    return G\n",
    "\n",
    "def add_meanode_pairs(G):\n",
    "    id_to_type = get_id_to_type(G)\n",
    "    for e in G.edges:\n",
    "        G.edges[e]['mn_pair'] = id_to_type[e[0]] + ' - ' + id_to_type[e[1]]\n",
    "    return G\n",
    "\n",
    "def get_targets(G):\n",
    "    drug = list(G.edges)[0][0]\n",
    "    targets = []\n",
    "    for e in G.edges:\n",
    "        if e[0] == drug:\n",
    "            targets.append(e[1])\n",
    "    return targets\n",
    "\n",
    "def get_target_metaedges(G):\n",
    "    drug = list(G.edges)[0][0]\n",
    "    target_mes = []\n",
    "    if 'metaedge' not in G.edges[list(G.edges)[0]]:\n",
    "        G = add_metaedges(G)\n",
    "    \n",
    "    for e in G.edges:\n",
    "        if e[0] == drug:\n",
    "            target_mes.append(G.edges[e]['metaedge'])\n",
    "    return target_mes"
   ]
  },
  {
   "cell_type": "markdown",
   "metadata": {},
   "source": [
    "### Things we'll explore in this notebook\n",
    "\n",
    "-  Number of paths\n",
    "-  Longest Path\n",
    "-  Shortest path\n",
    "-  Number of nodes\n",
    "-  Number of edges\n",
    "\n",
    "- most common metaedge\n",
    "- most common pairing\n",
    "- most common node\n",
    "- common targets\n",
    "- First edge type"
   ]
  },
  {
   "cell_type": "code",
   "execution_count": 6,
   "metadata": {},
   "outputs": [],
   "source": [
    "basic_stats = defaultdict(list)\n",
    "all_metaedges = []\n",
    "all_parings = []\n",
    "all_targets = []\n",
    "unique_metaedges = []\n",
    "first_edge_type = []\n",
    "all_nodes = []\n",
    "\n",
    "id_to_name = {}\n",
    "id_to_label = {}\n",
    "\n",
    "for i, p in enumerate(ind):\n",
    "    drug_id, dis_id = path_to_tup(p)\n",
    "    paths = get_all_paths(p)\n",
    "    G = path_to_G(p)\n",
    "    \n",
    "    G = add_metaedges(G)\n",
    "    G = add_meanode_pairs(G)\n",
    "    \n",
    "    basic_stats['idx'].append(i)\n",
    "    basic_stats['id'].append(p['graph']['_id'])\n",
    "    basic_stats['drug'].append(drug_id)\n",
    "    basic_stats['disease'].append(dis_id)\n",
    "    basic_stats['n_nodes'].append(len(G.nodes))\n",
    "    basic_stats['n_edges'].append(len(G.edges))\n",
    "    basic_stats['n_paths'].append(len(paths))\n",
    "    basic_stats['longest_path'].append(max([len(p) for p in paths]))\n",
    "    basic_stats['shortest_path'].append(max([len(p) for p in paths]))\n",
    "    basic_stats['metapath'].append(\" - \".join([n[1]['label'] for n in G.nodes.data()]))\n",
    "    basic_stats['metapath_with_edges'].append(\"\".join([re.sub(\" - [^-]*$\",\" - \",e[2]['metaedge']) for e in G.edges.data()])+\"Disease\")\n",
    "\n",
    "    \n",
    "    this_metaedges = [G.edges[e]['metaedge'] for e in G.edges]\n",
    "    all_metaedges += this_metaedges\n",
    "    unique_metaedges += list(set(this_metaedges))\n",
    "    \n",
    "    all_parings += [G.edges[e]['mn_pair'] for e in G.edges]\n",
    "    all_targets += get_targets(G)\n",
    "    first_edge_type += get_target_metaedges(G)\n",
    "    all_nodes += list(G.nodes)\n",
    "    \n",
    "    id_to_label = {**id_to_label, **get_id_to_type(G)}\n",
    "    id_to_name = {**id_to_name, **get_id_to_name(G)}\n",
    "    \n",
    "basic_stats = pd.DataFrame(basic_stats)"
   ]
  },
  {
   "cell_type": "code",
   "execution_count": 7,
   "metadata": {},
   "outputs": [
    {
     "data": {
      "text/html": [
       "<div>\n",
       "<style scoped>\n",
       "    .dataframe tbody tr th:only-of-type {\n",
       "        vertical-align: middle;\n",
       "    }\n",
       "\n",
       "    .dataframe tbody tr th {\n",
       "        vertical-align: top;\n",
       "    }\n",
       "\n",
       "    .dataframe thead th {\n",
       "        text-align: right;\n",
       "    }\n",
       "</style>\n",
       "<table border=\"1\" class=\"dataframe\">\n",
       "  <thead>\n",
       "    <tr style=\"text-align: right;\">\n",
       "      <th></th>\n",
       "      <th>idx</th>\n",
       "      <th>id</th>\n",
       "      <th>drug</th>\n",
       "      <th>disease</th>\n",
       "      <th>n_nodes</th>\n",
       "      <th>n_edges</th>\n",
       "      <th>n_paths</th>\n",
       "      <th>longest_path</th>\n",
       "      <th>shortest_path</th>\n",
       "      <th>metapath</th>\n",
       "      <th>metapath_with_edges</th>\n",
       "    </tr>\n",
       "  </thead>\n",
       "  <tbody>\n",
       "    <tr>\n",
       "      <th>0</th>\n",
       "      <td>0</td>\n",
       "      <td>DB00619_MESH_D015464_1</td>\n",
       "      <td>DB:DB00619</td>\n",
       "      <td>MESH:D015464</td>\n",
       "      <td>3</td>\n",
       "      <td>2</td>\n",
       "      <td>1</td>\n",
       "      <td>3</td>\n",
       "      <td>3</td>\n",
       "      <td>Drug - Protein - Disease</td>\n",
       "      <td>Drug - decreases activity of - Protein - cause...</td>\n",
       "    </tr>\n",
       "    <tr>\n",
       "      <th>1</th>\n",
       "      <td>1</td>\n",
       "      <td>DB00619_MESH_D034721_1</td>\n",
       "      <td>DB:DB00619</td>\n",
       "      <td>MESH:D034721</td>\n",
       "      <td>5</td>\n",
       "      <td>5</td>\n",
       "      <td>2</td>\n",
       "      <td>4</td>\n",
       "      <td>4</td>\n",
       "      <td>Drug - Protein - Protein - BiologicalProcess -...</td>\n",
       "      <td>Drug - decreases activity of - Drug - decrease...</td>\n",
       "    </tr>\n",
       "    <tr>\n",
       "      <th>2</th>\n",
       "      <td>2</td>\n",
       "      <td>DB00316_MESH_D010146_1</td>\n",
       "      <td>DB:DB00316</td>\n",
       "      <td>MESH:D010146</td>\n",
       "      <td>6</td>\n",
       "      <td>7</td>\n",
       "      <td>3</td>\n",
       "      <td>4</td>\n",
       "      <td>4</td>\n",
       "      <td>Drug - Protein - Protein - Pathway - ChemicalS...</td>\n",
       "      <td>Drug - decreases activity of - Drug - decrease...</td>\n",
       "    </tr>\n",
       "    <tr>\n",
       "      <th>3</th>\n",
       "      <td>3</td>\n",
       "      <td>DB00316_MESH_D005334_1</td>\n",
       "      <td>DB:DB00316</td>\n",
       "      <td>MESH:D005334</td>\n",
       "      <td>5</td>\n",
       "      <td>4</td>\n",
       "      <td>1</td>\n",
       "      <td>5</td>\n",
       "      <td>5</td>\n",
       "      <td>Drug - Pathway - GrossAnatomicalStructure - Bi...</td>\n",
       "      <td>Drug - negatively regulates - Pathway - occurs...</td>\n",
       "    </tr>\n",
       "    <tr>\n",
       "      <th>4</th>\n",
       "      <td>4</td>\n",
       "      <td>DB00945_MESH_D010146_1</td>\n",
       "      <td>DB:DB00945</td>\n",
       "      <td>MESH:D010146</td>\n",
       "      <td>5</td>\n",
       "      <td>5</td>\n",
       "      <td>2</td>\n",
       "      <td>4</td>\n",
       "      <td>4</td>\n",
       "      <td>Drug - Protein - Protein - ChemicalSubstance -...</td>\n",
       "      <td>Drug - decreases activity of - Drug - decrease...</td>\n",
       "    </tr>\n",
       "    <tr>\n",
       "      <th>...</th>\n",
       "      <td>...</td>\n",
       "      <td>...</td>\n",
       "      <td>...</td>\n",
       "      <td>...</td>\n",
       "      <td>...</td>\n",
       "      <td>...</td>\n",
       "      <td>...</td>\n",
       "      <td>...</td>\n",
       "      <td>...</td>\n",
       "      <td>...</td>\n",
       "      <td>...</td>\n",
       "    </tr>\n",
       "    <tr>\n",
       "      <th>3245</th>\n",
       "      <td>3245</td>\n",
       "      <td>DB09104_MESH_D010437_1</td>\n",
       "      <td>DB:DB09104</td>\n",
       "      <td>MESH:D010437</td>\n",
       "      <td>4</td>\n",
       "      <td>3</td>\n",
       "      <td>1</td>\n",
       "      <td>4</td>\n",
       "      <td>4</td>\n",
       "      <td>Drug - ChemicalSubstance - ChemicalSubstance -...</td>\n",
       "      <td>Drug - subclass of - ChemicalSubstance - negat...</td>\n",
       "    </tr>\n",
       "    <tr>\n",
       "      <th>3246</th>\n",
       "      <td>3246</td>\n",
       "      <td>DB09104_MESH_D004415_1</td>\n",
       "      <td>DB:DB09104</td>\n",
       "      <td>MESH:D004415</td>\n",
       "      <td>5</td>\n",
       "      <td>4</td>\n",
       "      <td>1</td>\n",
       "      <td>5</td>\n",
       "      <td>5</td>\n",
       "      <td>Drug - ChemicalSubstance - ChemicalSubstance -...</td>\n",
       "      <td>Drug - subclass of - ChemicalSubstance - negat...</td>\n",
       "    </tr>\n",
       "    <tr>\n",
       "      <th>3247</th>\n",
       "      <td>3247</td>\n",
       "      <td>DB09104_MESH_D005764_1</td>\n",
       "      <td>DB:DB09104</td>\n",
       "      <td>MESH:D005764</td>\n",
       "      <td>4</td>\n",
       "      <td>3</td>\n",
       "      <td>1</td>\n",
       "      <td>4</td>\n",
       "      <td>4</td>\n",
       "      <td>Drug - ChemicalSubstance - ChemicalSubstance -...</td>\n",
       "      <td>Drug - subclass of - ChemicalSubstance - negat...</td>\n",
       "    </tr>\n",
       "    <tr>\n",
       "      <th>3248</th>\n",
       "      <td>3248</td>\n",
       "      <td>DB09104_MESH_D006356_1</td>\n",
       "      <td>DB:DB09104</td>\n",
       "      <td>MESH:D006356</td>\n",
       "      <td>4</td>\n",
       "      <td>3</td>\n",
       "      <td>1</td>\n",
       "      <td>4</td>\n",
       "      <td>4</td>\n",
       "      <td>Drug - ChemicalSubstance - ChemicalSubstance -...</td>\n",
       "      <td>Drug - subclass of - ChemicalSubstance - negat...</td>\n",
       "    </tr>\n",
       "    <tr>\n",
       "      <th>3249</th>\n",
       "      <td>3249</td>\n",
       "      <td>DB00962_MESH_D007319_1</td>\n",
       "      <td>DB:DB00962</td>\n",
       "      <td>MESH:D007319</td>\n",
       "      <td>5</td>\n",
       "      <td>4</td>\n",
       "      <td>1</td>\n",
       "      <td>5</td>\n",
       "      <td>5</td>\n",
       "      <td>Drug - Protein - MolecularActivity - Phenotypi...</td>\n",
       "      <td>Drug - positively regulates - Protein - positi...</td>\n",
       "    </tr>\n",
       "  </tbody>\n",
       "</table>\n",
       "<p>3250 rows × 11 columns</p>\n",
       "</div>"
      ],
      "text/plain": [
       "       idx                      id        drug       disease  n_nodes  \\\n",
       "0        0  DB00619_MESH_D015464_1  DB:DB00619  MESH:D015464        3   \n",
       "1        1  DB00619_MESH_D034721_1  DB:DB00619  MESH:D034721        5   \n",
       "2        2  DB00316_MESH_D010146_1  DB:DB00316  MESH:D010146        6   \n",
       "3        3  DB00316_MESH_D005334_1  DB:DB00316  MESH:D005334        5   \n",
       "4        4  DB00945_MESH_D010146_1  DB:DB00945  MESH:D010146        5   \n",
       "...    ...                     ...         ...           ...      ...   \n",
       "3245  3245  DB09104_MESH_D010437_1  DB:DB09104  MESH:D010437        4   \n",
       "3246  3246  DB09104_MESH_D004415_1  DB:DB09104  MESH:D004415        5   \n",
       "3247  3247  DB09104_MESH_D005764_1  DB:DB09104  MESH:D005764        4   \n",
       "3248  3248  DB09104_MESH_D006356_1  DB:DB09104  MESH:D006356        4   \n",
       "3249  3249  DB00962_MESH_D007319_1  DB:DB00962  MESH:D007319        5   \n",
       "\n",
       "      n_edges  n_paths  longest_path  shortest_path  \\\n",
       "0           2        1             3              3   \n",
       "1           5        2             4              4   \n",
       "2           7        3             4              4   \n",
       "3           4        1             5              5   \n",
       "4           5        2             4              4   \n",
       "...       ...      ...           ...            ...   \n",
       "3245        3        1             4              4   \n",
       "3246        4        1             5              5   \n",
       "3247        3        1             4              4   \n",
       "3248        3        1             4              4   \n",
       "3249        4        1             5              5   \n",
       "\n",
       "                                               metapath  \\\n",
       "0                              Drug - Protein - Disease   \n",
       "1     Drug - Protein - Protein - BiologicalProcess -...   \n",
       "2     Drug - Protein - Protein - Pathway - ChemicalS...   \n",
       "3     Drug - Pathway - GrossAnatomicalStructure - Bi...   \n",
       "4     Drug - Protein - Protein - ChemicalSubstance -...   \n",
       "...                                                 ...   \n",
       "3245  Drug - ChemicalSubstance - ChemicalSubstance -...   \n",
       "3246  Drug - ChemicalSubstance - ChemicalSubstance -...   \n",
       "3247  Drug - ChemicalSubstance - ChemicalSubstance -...   \n",
       "3248  Drug - ChemicalSubstance - ChemicalSubstance -...   \n",
       "3249  Drug - Protein - MolecularActivity - Phenotypi...   \n",
       "\n",
       "                                    metapath_with_edges  \n",
       "0     Drug - decreases activity of - Protein - cause...  \n",
       "1     Drug - decreases activity of - Drug - decrease...  \n",
       "2     Drug - decreases activity of - Drug - decrease...  \n",
       "3     Drug - negatively regulates - Pathway - occurs...  \n",
       "4     Drug - decreases activity of - Drug - decrease...  \n",
       "...                                                 ...  \n",
       "3245  Drug - subclass of - ChemicalSubstance - negat...  \n",
       "3246  Drug - subclass of - ChemicalSubstance - negat...  \n",
       "3247  Drug - subclass of - ChemicalSubstance - negat...  \n",
       "3248  Drug - subclass of - ChemicalSubstance - negat...  \n",
       "3249  Drug - positively regulates - Protein - positi...  \n",
       "\n",
       "[3250 rows x 11 columns]"
      ]
     },
     "execution_count": 7,
     "metadata": {},
     "output_type": "execute_result"
    }
   ],
   "source": [
    "basic_stats"
   ]
  },
  {
   "cell_type": "code",
   "execution_count": 8,
   "metadata": {},
   "outputs": [
    {
     "name": "stdout",
     "output_type": "stream",
     "text": [
      "Number of unique drugs: 1351\n",
      "Number of unique diseases: 643\n",
      "Number of unique drug-disease combinations: 2995\n"
     ]
    }
   ],
   "source": [
    "print(\"Number of unique drugs: \" + str(len(set(basic_stats['drug']))))\n",
    "print(\"Number of unique diseases: \" + str(len(set(basic_stats['disease']))))\n",
    "print(\"Number of unique drug-disease combinations: \" + str(len(basic_stats.groupby(['drug','disease']).size())))\n"
   ]
  },
  {
   "cell_type": "code",
   "execution_count": 9,
   "metadata": {},
   "outputs": [
    {
     "data": {
      "image/png": "[encoded data removed]",
      "text/plain": [
       "<Figure size 432x288 with 1 Axes>"
      ]
     },
     "metadata": {
      "needs_background": "light"
     },
     "output_type": "display_data"
    }
   ],
   "source": [
    "sns.histplot(basic_stats['n_nodes'],binwidth=1)\n",
    "plt.title('Distribution of nodes per record')\n",
    "plt.xlabel('Number of Nodes')\n",
    "plt.ylabel('Number of Records');"
   ]
  },
  {
   "cell_type": "code",
   "execution_count": null,
   "metadata": {},
   "outputs": [],
   "source": [
    "sns.histplot(basic_stats['n_edges'],binwidth=1)\n",
    "plt.title('Distribution of edges per record')\n",
    "plt.xlabel('Number of Edges')\n",
    "plt.ylabel('Number of Records');"
   ]
  },
  {
   "cell_type": "code",
   "execution_count": null,
   "metadata": {},
   "outputs": [],
   "source": [
    "sns.histplot(basic_stats['n_paths'],binwidth=1)\n",
    "plt.title('Distribution of paths per record')\n",
    "plt.xlabel('Number of Paths')\n",
    "plt.ylabel('Number of Records');"
   ]
  },
  {
   "cell_type": "code",
   "execution_count": null,
   "metadata": {},
   "outputs": [],
   "source": [
    "basic_stats.query('n_paths > 20')"
   ]
  },
  {
   "cell_type": "code",
   "execution_count": null,
   "metadata": {},
   "outputs": [],
   "source": [
    "f = plot_path(ind[724])\n",
    "f.set_size_inches(40, 30)"
   ]
  },
  {
   "cell_type": "code",
   "execution_count": null,
   "metadata": {},
   "outputs": [],
   "source": [
    "basic_stats.query('n_paths > 10')"
   ]
  },
  {
   "cell_type": "code",
   "execution_count": null,
   "metadata": {},
   "outputs": [],
   "source": [
    "f = plot_path(ind[518])\n",
    "f.set_size_inches(40, 30)"
   ]
  },
  {
   "cell_type": "code",
   "execution_count": null,
   "metadata": {},
   "outputs": [],
   "source": [
    "sns.histplot(basic_stats['longest_path'],binwidth=1)\n",
    "plt.title('Distribution of longest path per record')\n",
    "plt.xlabel('Length of longest path')\n",
    "plt.ylabel('Number of Records');"
   ]
  },
  {
   "cell_type": "markdown",
   "metadata": {},
   "source": [
    "#### Metanode parings"
   ]
  },
  {
   "cell_type": "code",
   "execution_count": null,
   "metadata": {},
   "outputs": [],
   "source": [
    "pair_counts = pd.Series(all_parings).value_counts()\n",
    "count_plot_h(pair_counts.head(10))\n",
    "plt.title('Most common Metanode Pairings in DrugMechDB')\n",
    "plt.xlabel('Number of times metanode pairing appears');"
   ]
  },
  {
   "cell_type": "markdown",
   "metadata": {},
   "source": [
    "#### Metaedge use"
   ]
  },
  {
   "cell_type": "code",
   "execution_count": null,
   "metadata": {},
   "outputs": [],
   "source": [
    "me_counts = pd.Series(all_metaedges).value_counts()\n",
    "count_plot_h(me_counts.head(10))\n",
    "plt.title('Most common Metaedge in DrugMechDB')\n",
    "plt.xlabel('Number of times Metaedge appears');"
   ]
  },
  {
   "cell_type": "markdown",
   "metadata": {},
   "source": [
    "#### Metaedges per record"
   ]
  },
  {
   "cell_type": "code",
   "execution_count": null,
   "metadata": {},
   "outputs": [],
   "source": [
    "ume_counts = pd.Series(unique_metaedges).value_counts()\n",
    "count_plot_h(ume_counts.head(10))\n",
    "plt.title('Most common Metaedge in DrugMechDB')\n",
    "plt.xlabel('Number of records containing Metaedge');"
   ]
  },
  {
   "cell_type": "markdown",
   "metadata": {},
   "source": [
    "#### Metapaths"
   ]
  },
  {
   "cell_type": "code",
   "execution_count": null,
   "metadata": {},
   "outputs": [],
   "source": [
    "mp_counts = pd.Series(basic_stats['metapath']).value_counts()\n",
    "count_plot_h(mp_counts.head(20))\n",
    "plt.title('Most common metapaths (node types only)')\n",
    "plt.xlabel('Number of records using metapath')"
   ]
  },
  {
   "cell_type": "code",
   "execution_count": null,
   "metadata": {},
   "outputs": [],
   "source": [
    "count_plot_h(basic_stats['metapath_with_edges'].value_counts().head(20))"
   ]
  },
  {
   "cell_type": "code",
   "execution_count": null,
   "metadata": {},
   "outputs": [],
   "source": [
    "basic_stats['metapath_with_edges'].value_counts().head(20)"
   ]
  },
  {
   "cell_type": "markdown",
   "metadata": {},
   "source": [
    "## Node information"
   ]
  },
  {
   "cell_type": "code",
   "execution_count": null,
   "metadata": {},
   "outputs": [],
   "source": [
    "node_counts = pd.Series(all_nodes, name='id')\n",
    "node_counts = node_counts.to_frame().reset_index()\n",
    "node_counts['name'] = node_counts['id'].map(id_to_name)\n",
    "node_counts['label'] = node_counts['id'].map(id_to_label)"
   ]
  },
  {
   "cell_type": "code",
   "execution_count": null,
   "metadata": {},
   "outputs": [],
   "source": [
    "count_plot_h(node_counts['name'].value_counts().head(10))\n",
    "plt.title('Top 10 most encountered nodes')\n",
    "plt.xlabel('Number of paths containing Node')\n",
    "plt.ylabel('');"
   ]
  },
  {
   "cell_type": "code",
   "execution_count": null,
   "metadata": {},
   "outputs": [],
   "source": [
    "count_plot_h(node_counts['label'].value_counts().head(10))\n",
    "plt.title('Top 10 most encountered node types')\n",
    "plt.xlabel('Number of times node type encountered')\n",
    "plt.ylabel('');"
   ]
  },
  {
   "cell_type": "markdown",
   "metadata": {},
   "source": [
    "## Target Information"
   ]
  },
  {
   "cell_type": "code",
   "execution_count": null,
   "metadata": {},
   "outputs": [],
   "source": [
    "target_counts = pd.Series(all_targets, name='count')\n",
    "target_counts = target_counts.value_counts().to_frame().reset_index().rename(columns={'index': 'id'})\n",
    "target_counts['name'] = target_counts['id'].map(id_to_name)\n",
    "target_counts['label'] = target_counts['id'].map(id_to_label)"
   ]
  },
  {
   "cell_type": "code",
   "execution_count": null,
   "metadata": {},
   "outputs": [],
   "source": [
    "count_plot_h(target_counts.set_index('name').head(10)['count'])\n",
    "plt.title('Top 10 most encountered targets')\n",
    "plt.xlabel('Number of paths containing Target')\n",
    "plt.ylabel('');"
   ]
  },
  {
   "cell_type": "code",
   "execution_count": null,
   "metadata": {},
   "outputs": [],
   "source": [
    "pd.Series(first_edge_type, name='type').to_frame()"
   ]
  },
  {
   "cell_type": "code",
   "execution_count": null,
   "metadata": {},
   "outputs": [],
   "source": [
    "fet_data = pd.Series(first_edge_type, name='type').to_frame()\n",
    "fet_data['target_type'] = fet_data['type'].apply(lambda x: x.split(' - ')[2])\n",
    "fet_data['interaction'] = fet_data['type'].apply(lambda x: x.split(' - ')[1])"
   ]
  },
  {
   "cell_type": "code",
   "execution_count": null,
   "metadata": {},
   "outputs": [],
   "source": [
    "count_plot_h(fet_data['type'].value_counts().head(10))\n",
    "plt.title('Top 10 most encountered targets')\n",
    "plt.xlabel('Number of paths containing Target')\n",
    "plt.ylabel('');"
   ]
  },
  {
   "cell_type": "code",
   "execution_count": null,
   "metadata": {},
   "outputs": [],
   "source": [
    "count_plot_h(fet_data['target_type'].value_counts())\n",
    "plt.title('Types of targets in Drug-Target interactions')\n",
    "plt.xlabel('Number Drug-Target interactions')\n",
    "plt.ylabel('');"
   ]
  },
  {
   "cell_type": "code",
   "execution_count": null,
   "metadata": {},
   "outputs": [],
   "source": [
    "count_plot_h(fet_data['interaction'].value_counts().head(10))\n",
    "plt.title('Top 10 Drug to Target interaction semantics')\n",
    "plt.xlabel('Number of Drug-Target interactions')\n",
    "plt.ylabel('');"
   ]
  },
  {
   "cell_type": "markdown",
   "metadata": {},
   "source": [
    "## Full Graph Analysis"
   ]
  },
  {
   "cell_type": "code",
   "execution_count": null,
   "metadata": {},
   "outputs": [],
   "source": [
    "Graph = nx.MultiDiGraph()\n",
    "\n",
    "for p in ind:\n",
    "    G = path_to_G(p)\n",
    "    Graph = nx.compose(Graph, G)"
   ]
  },
  {
   "cell_type": "code",
   "execution_count": null,
   "metadata": {},
   "outputs": [],
   "source": [
    "print(nx.info(Graph))"
   ]
  },
  {
   "cell_type": "code",
   "execution_count": null,
   "metadata": {},
   "outputs": [],
   "source": [
    "nx.density(Graph)"
   ]
  },
  {
   "cell_type": "code",
   "execution_count": null,
   "metadata": {},
   "outputs": [],
   "source": [
    "sgraph = nx.MultiGraph(Graph)"
   ]
  },
  {
   "cell_type": "code",
   "execution_count": null,
   "metadata": {},
   "outputs": [],
   "source": [
    "components = list(nx.connected_components(sgraph))\n",
    "len(components)"
   ]
  },
  {
   "cell_type": "code",
   "execution_count": null,
   "metadata": {},
   "outputs": [],
   "source": [
    "larget_component = max(components, key=len)"
   ]
  },
  {
   "cell_type": "code",
   "execution_count": null,
   "metadata": {},
   "outputs": [],
   "source": [
    "subgraph = sgraph.subgraph(larget_component)"
   ]
  },
  {
   "cell_type": "code",
   "execution_count": null,
   "metadata": {},
   "outputs": [],
   "source": [
    "nx.diameter(subgraph)"
   ]
  },
  {
   "cell_type": "code",
   "execution_count": null,
   "metadata": {},
   "outputs": [],
   "source": [
    "degree_dict = dict(Graph.degree(Graph.nodes))\n",
    "nx.set_node_attributes(Graph, degree_dict, 'degree')\n",
    "sorted_degree = sorted(degree_dict.items(), key=itemgetter(1), reverse=True)"
   ]
  },
  {
   "cell_type": "code",
   "execution_count": null,
   "metadata": {},
   "outputs": [],
   "source": [
    "node_degree = pd.DataFrame(sorted_degree).rename(columns={0: 'id', 1: 'degree'})\n",
    "node_degree['name'] = node_degree['id'].map(id_to_name)"
   ]
  },
  {
   "cell_type": "code",
   "execution_count": null,
   "metadata": {},
   "outputs": [],
   "source": [
    "sns.histplot(node_degree['degree'],binwidth=1,binrange=[0,50])\n",
    "plt.title('Distribution of node degree')\n",
    "plt.xlabel('Node degree')\n",
    "plt.ylabel('Number of nodes');"
   ]
  },
  {
   "cell_type": "code",
   "execution_count": null,
   "metadata": {},
   "outputs": [],
   "source": [
    "count_plot_h(node_degree.set_index('name')['degree'].head(10))\n",
    "plt.title('Degree of most connected nodes');\n",
    "plt.xlabel('Degree')\n",
    "plt.ylabel('');"
   ]
  }
 ],
 "metadata": {
  "kernelspec": {
   "display_name": "DMDB_analysis",
   "language": "python",
   "name": "dmdb_analysis"
  },
  "language_info": {
   "codemirror_mode": {
    "name": "ipython",
    "version": 3
   },
   "file_extension": ".py",
   "mimetype": "text/x-python",
   "name": "python",
   "nbconvert_exporter": "python",
   "pygments_lexer": "ipython3",
   "version": "3.8.10"
  }
 },
 "nbformat": 4,
 "nbformat_minor": 4
}
